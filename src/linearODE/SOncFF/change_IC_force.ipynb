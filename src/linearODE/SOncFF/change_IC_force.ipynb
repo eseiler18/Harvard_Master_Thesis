{
 "cells": [
  {
   "cell_type": "markdown",
   "metadata": {},
   "source": [
    "# Notebook to Change IC or force function inside the stiff regime on SSncFF"
   ]
  },
  {
   "cell_type": "code",
   "execution_count": null,
   "metadata": {},
   "outputs": [],
   "source": [
    "%load_ext autoreload\n",
    "%autoreload 2"
   ]
  },
  {
   "cell_type": "code",
   "execution_count": null,
   "metadata": {},
   "outputs": [],
   "source": [
    "# imports\n",
    "import time\n",
    "import torch\n",
    "import matplotlib.pyplot as plt\n",
    "import numpy as np\n",
    "import sys\n",
    "from scipy.integrate import solve_ivp\n",
    "from collections import defaultdict\n",
    "from tqdm import tqdm\n",
    "\n",
    "# Add parent directory to sys.path\n",
    "from pathlib import Path\n",
    "current_path = Path.cwd()\n",
    "parent_dir = current_path.parent.parent\n",
    "sys.path.append(str(parent_dir))\n",
    "\n",
    "from src.transfer_learning import compute_H_and_dH_dt, analytically_compute_weights, compute_M_inv, compute_force_term, compute_W_with_IC\n",
    "from src.utils_plot import plot_loss_and_all_solution, plot_transfer_learned_and_analytical\n",
    "from src.load_save import load_run_history\n",
    "\n",
    "torch.autograd.set_detect_anomaly(False)\n",
    "torch.autograd.profiler.profile(False)\n",
    "torch.autograd.profiler.emit_nvtx(False)"
   ]
  },
  {
   "cell_type": "code",
   "execution_count": null,
   "metadata": {},
   "outputs": [],
   "source": [
    "def check_versions_and_device():\n",
    "  # set the device to the GPU if it is available, otherwise use the CPU\n",
    "  current_dev = torch.device('cuda' if torch.cuda.is_available() else 'cpu')\n",
    "  !nvidia-smi\n",
    "  return current_dev\n",
    "\n",
    "# set a global device variable to use in code\n",
    "dev = check_versions_and_device()\n",
    "print(dev)"
   ]
  },
  {
   "cell_type": "markdown",
   "metadata": {},
   "source": [
    "### Load the pretrain model and history"
   ]
  },
  {
   "cell_type": "code",
   "execution_count": null,
   "metadata": {},
   "outputs": [],
   "source": [
    "file_name = \"final_inference_2121806\"\n",
    "equation_name = \"SOncFF\"\n",
    "\n",
    "trained_model, \\\n",
    "x_range, \\\n",
    "iterations, \\\n",
    "hid_lay, \\\n",
    "num_equations, \\\n",
    "num_heads, \\\n",
    "loss_hist, \\\n",
    "alpha_list, \\\n",
    "A_list, \\\n",
    "IC_list, \\\n",
    "force_list = load_run_history(equation_name, file_name, dev, prev=False)\n",
    "\n",
    "\n",
    "force_list = [\n",
    "    lambda t, alpha=a, omega=w: torch.vstack([2*torch.sin(omega*t), alpha*(torch.cos(omega*t)-torch.sin(omega*t))]).T.double()\n",
    "    if not isinstance(t, (float, int))\n",
    "    else np.array([2*np.sin(omega*t), alpha*(np.cos(omega*t)-np.sin(omega*t))]).T\n",
    "    for a, w in zip(alpha_list, [2.36090035, 1.90842823, 2.59444808, 0.93323029, 1.204341])\n",
    "]\n",
    "\n",
    "# function to get A for alpha value and DHO equation\n",
    "def get_A(alpha):\n",
    "    return torch.tensor([[2., -1.], [1-alpha, alpha]], device=dev).double() "
   ]
  },
  {
   "cell_type": "markdown",
   "metadata": {},
   "source": [
    "### Define numerical solution"
   ]
  },
  {
   "cell_type": "code",
   "execution_count": null,
   "metadata": {},
   "outputs": [],
   "source": [
    "# Numerical solution\n",
    "def double_coupled_equation(t, y, A, force):\n",
    "    return np.array([force(t)[..., 0].item()- A[0][1] * y[1] - A[0][0] * y[0],\n",
    "                     force(t)[..., 1].item() - A[1][0] * y[0] - A[1][1] * y[1]])\n",
    "\n",
    "r_tol = 1e-4\n",
    "numerical_sol_fct_radau = lambda x, v, A, force: (solve_ivp(double_coupled_equation, [x_range[0], x_range[1]],\n",
    "                                                  v.squeeze(), args=(A, force), t_eval=x.squeeze(), method=\"Radau\", rtol=r_tol).y)\n",
    "\n",
    "numerical_sol_fct_rk45 = lambda x, v, A, force: (solve_ivp(double_coupled_equation, [x_range[0], x_range[1]],\n",
    "                                                    v.squeeze(), args=(A, force), t_eval=x.squeeze(), method=\"RK45\", rtol=r_tol).y)\n",
    "\n",
    "numerical_sol_fct_lsoda = lambda x, v, A, force: (solve_ivp(double_coupled_equation, [x_range[0], x_range[1]],\n",
    "                                                    v.squeeze(), args=(A, force), t_eval=x.squeeze(), method=\"LSODA\", rtol=r_tol).y)\n",
    "\n",
    "numerical_methods = {\"RK45\": numerical_sol_fct_rk45, \"Radau\": numerical_sol_fct_radau}"
   ]
  },
  {
   "cell_type": "markdown",
   "metadata": {},
   "source": [
    "### Plot training result"
   ]
  },
  {
   "cell_type": "code",
   "execution_count": null,
   "metadata": {},
   "outputs": [],
   "source": [
    "plot_loss_and_all_solution(x_range=x_range, true_functs=numerical_sol_fct_radau,\n",
    "                           trained_model=trained_model, IC_list=IC_list, A_list=A_list,\n",
    "                           force=force_list, train_losses=loss_hist, device=dev)"
   ]
  },
  {
   "cell_type": "markdown",
   "metadata": {},
   "source": [
    "## Transfer Learning inside the sitff domain\n",
    "### Extract H "
   ]
  },
  {
   "cell_type": "code",
   "execution_count": null,
   "metadata": {},
   "outputs": [],
   "source": [
    "# forward pass to extract H\n",
    "size = 512\n",
    "H, H_0, dH_dt_new, t_eval = compute_H_and_dH_dt(x_range[0], x_range[1], trained_model, num_equations, hid_lay, size, dev)"
   ]
  },
  {
   "cell_type": "markdown",
   "metadata": {},
   "source": [
    "# Transfer learning other omega value"
   ]
  },
  {
   "cell_type": "code",
   "execution_count": null,
   "metadata": {},
   "outputs": [],
   "source": [
    "# stiff parameter alpha list\n",
    "alpha_transfer = 20\n",
    "omega_transfer = 1.3\n",
    "\n",
    "transfer_A = get_A(alpha_transfer)\n",
    "force_transfer =  lambda t, alpha=alpha_transfer, omega=omega_transfer: torch.vstack([2*torch.sin(omega*t), alpha*(torch.cos(omega*t)-torch.sin(omega*t))]).T.double() \\\n",
    "                                                           if not isinstance(t, (float, int)) \\\n",
    "                                                           else np.array([2*np.sin(omega*t), alpha*(np.cos(omega*t)-np.sin(omega*t))]).T\n",
    "IC_transfer = IC_list[0]\n",
    "\n",
    "# compute the transfer learned solution\n",
    "M_inv_new, W_out_new_A, force_terms_new, total_time = analytically_compute_weights(dH_dt_new, H, H_0, t_eval,\n",
    "                                                                       IC_transfer, transfer_A, force_transfer)\n",
    "# plot the transfer learned and true solutions\n",
    "plot_transfer_learned_and_analytical(H, W_out_new_A, t_eval, IC_transfer, transfer_A, force_transfer,\n",
    "                                     num_equations, numerical_sol_fct_radau)"
   ]
  },
  {
   "cell_type": "markdown",
   "metadata": {},
   "source": [
    "### Change omega of the force function in a stiff regime\n",
    "\n"
   ]
  },
  {
   "cell_type": "code",
   "execution_count": null,
   "metadata": {},
   "outputs": [],
   "source": [
    "omega_bounds = (0, np.pi)\n",
    "def generate_omega(k, omega_bounds = omega_bounds):\n",
    "  omega_list = np.zeros(k)\n",
    "  for i in range(k):\n",
    "    omega_list[i] = np.random.uniform(omega_bounds[0], omega_bounds[1])\n",
    "  return omega_list\n",
    "\n",
    "change_IC = False\n",
    "change_force = True"
   ]
  },
  {
   "cell_type": "markdown",
   "metadata": {},
   "source": [
    "### Precompute the M matrix in the stiff regime"
   ]
  },
  {
   "cell_type": "code",
   "execution_count": null,
   "metadata": {},
   "outputs": [],
   "source": [
    "alpha_transfer = 90\n",
    "A_transfer = get_A(alpha=alpha_transfer)\n",
    "\n",
    "force_transfer = force_list[0]\n",
    "IC_transfer = IC_list[0]\n",
    "\n",
    "A_transfer = A_transfer.double()\n",
    "dH_dt_new = dH_dt_new.double()\n",
    "H = H.double()\n",
    "H_0 = H_0.double()\n",
    "\n",
    "M_inv = compute_M_inv(dH_dt_new, H, H_0, t_eval, A_transfer)\n",
    "\n",
    "if not change_force:\n",
    "    force_terms = compute_force_term(t_eval, A_transfer, force_transfer, H, dH_dt_new)\n",
    "\n",
    "if not change_IC:\n",
    "    IC_term = torch.matmul(H_0.T, IC_transfer)"
   ]
  },
  {
   "cell_type": "markdown",
   "metadata": {},
   "source": [
    "### Compute 1000 solution with changing omega in the force function"
   ]
  },
  {
   "cell_type": "code",
   "execution_count": null,
   "metadata": {},
   "outputs": [],
   "source": [
    "np.random.seed(42)\n",
    "nb_transfer_equation = 1000\n",
    "\n",
    "IC_transfer_list = [IC_transfer for _ in range(nb_transfer_equation)]\n",
    "\n",
    "force_transfer_list = [lambda t, alpha=alpha_transfer, omega=generate_omega(k=1).item(): torch.vstack([2*torch.sin(omega*t), alpha*(torch.cos(omega*t)-torch.sin(omega*t))]).T.double() \\\n",
    "                                                           if not isinstance(t, (float, int)) \\\n",
    "                                                           else np.array([2*np.sin(omega*t), alpha*(np.cos(omega*t)-np.sin(omega*t))]).T for _ in range(nb_transfer_equation)]\n",
    "\n",
    "computational_time = defaultdict(list)\n",
    "max_error = defaultdict(list)\n",
    "mean_error = defaultdict(list)\n",
    "solution = defaultdict(list)\n",
    "\n",
    "for IC_transfer, force_transfer in tqdm(zip(IC_transfer_list, force_transfer_list), total=nb_transfer_equation):\n",
    "    # PINNS (change only IC)\n",
    "    if (change_IC) & (~change_force):\n",
    "        start = time.time()\n",
    "        W_out, _ = compute_W_with_IC(M_inv, force_terms, IC_transfer, H_0)\n",
    "        pinns_sol = torch.matmul(H, W_out)\n",
    "        end = time.time()\n",
    "    \n",
    "    # PINNS (change only force)\n",
    "    elif (change_force) & (~change_IC):\n",
    "        start = time.time()\n",
    "        force_terms = compute_force_term(t_eval, A_transfer, force_transfer, H, dH_dt_new)\n",
    "        rhs_terms = force_terms + IC_term\n",
    "        W_out = torch.matmul(M_inv, rhs_terms)\n",
    "        pinns_sol = torch.matmul(H, W_out)\n",
    "        end = time.time()\n",
    "\n",
    "    # PINNS (change IC and force)\n",
    "    elif (change_force) & (change_IC):\n",
    "        start = time.time()\n",
    "        force_terms = compute_force_term(t_eval, A_transfer, force_transfer, H, dH_dt_new)\n",
    "        W_out, _ = compute_W_with_IC(M_inv, force_terms, IC_transfer, H_0)\n",
    "        pinns_sol = torch.matmul(H, W_out)\n",
    "        end = time.time()\n",
    "\n",
    "    solution[\"PINNS\"].append(np.swapaxes(pinns_sol.detach().cpu().numpy().squeeze(), 0, 1))\n",
    "    computational_time[\"PINNS\"].append(end-start)\n",
    "\n",
    "    # solve with numerical methods\n",
    "    for method, fct in numerical_methods.items():\n",
    "        start = time.time()\n",
    "        numerical_sol = fct(t_eval.detach().cpu().numpy(), IC_transfer.detach().cpu(),\n",
    "                            A_transfer.cpu(),\n",
    "                            force_transfer)\n",
    "        solution[method].append(numerical_sol)\n",
    "        end = time.time()\n",
    "        computational_time[method].append(end-start)"
   ]
  },
  {
   "cell_type": "code",
   "execution_count": null,
   "metadata": {},
   "outputs": [],
   "source": [
    "import matplotlib.pyplot as plt\n",
    "\n",
    "color = {\"PINNS\": 'orange', \"RK45\": 'b', \"Radau\": 'g', \"True\": (1, 0, 0, 0.5)}\n",
    "fig, ax = plt.subplots(1, tight_layout=True, figsize=(8, 4))\n",
    "\n",
    "height = 0.6  # Change width to height for horizontal bars\n",
    "\n",
    "for i, (method, compt_time) in enumerate(computational_time.items()):\n",
    "    ax.barh(i, sum(compt_time)/len(compt_time), height=height, color=color[method], label=f\"{method}\")\n",
    "    ax.annotate(f'{sum(compt_time)/len(compt_time):1.2e}', (sum(compt_time)/len(compt_time), i),\n",
    "                ha='left', va='center', fontsize=12)  # Adjusted annotation placement for horizontal bars\n",
    "ax.set_xscale(\"log\")  # Change yscale to xscale for horizontal bars\n",
    "change_title = \"IC and force\" if (change_force and change_IC) else (\"force\" if change_force else \"IC\")\n",
    "ax.set_xlabel('Time (s)', fontsize=16)  # Change ylabel to xlabel for horizontal bars\n",
    "ax.set_yticks([i for i in range(len(computational_time))])\n",
    "ax.set_yticklabels(computational_time.keys())  # Change xticks to yticks and set_xticks to set_yticks\n",
    "ax.tick_params(axis='y', labelsize=14)\n",
    "ax.tick_params(axis='x', labelsize=16)\n",
    "fig.tight_layout()\n",
    "ax.margins(x=0.15)"
   ]
  }
 ],
 "metadata": {
  "kernelspec": {
   "display_name": "pinns",
   "language": "python",
   "name": "python3"
  },
  "language_info": {
   "codemirror_mode": {
    "name": "ipython",
    "version": 3
   },
   "file_extension": ".py",
   "mimetype": "text/x-python",
   "name": "python",
   "nbconvert_exporter": "python",
   "pygments_lexer": "ipython3",
   "version": "3.10.9"
  }
 },
 "nbformat": 4,
 "nbformat_minor": 2
}
