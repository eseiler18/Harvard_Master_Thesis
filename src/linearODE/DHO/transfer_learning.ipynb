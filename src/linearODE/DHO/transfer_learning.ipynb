{
 "cells": [
  {
   "cell_type": "markdown",
   "metadata": {},
   "source": [
    "# Transfer Learning Notebook for the Damped Harmonic Oscillator"
   ]
  },
  {
   "cell_type": "code",
   "execution_count": null,
   "metadata": {},
   "outputs": [],
   "source": [
    "%load_ext autoreload\n",
    "%autoreload 2"
   ]
  },
  {
   "cell_type": "code",
   "execution_count": null,
   "metadata": {},
   "outputs": [],
   "source": [
    "# imports\n",
    "import torch\n",
    "import matplotlib.pyplot as plt\n",
    "import numpy as np\n",
    "import sys\n",
    "import json\n",
    "import os\n",
    "from scipy.integrate import solve_ivp\n",
    "\n",
    "# Add parent directory to sys.path\n",
    "from pathlib import Path\n",
    "current_path = Path.cwd()\n",
    "parent_dir = current_path.parent.parent\n",
    "sys.path.append(str(parent_dir))\n",
    "\n",
    "from src.transfer_learning import compute_H_and_dH_dt, analytically_compute_weights\n",
    "from src.utils_plot import plot_loss_and_all_solution, plot_transfer_learned_and_analytical\n",
    "from src.load_save import load_run_history\n",
    "\n",
    "torch.autograd.set_detect_anomaly(False)\n",
    "torch.autograd.profiler.profile(False)\n",
    "torch.autograd.profiler.emit_nvtx(False)"
   ]
  },
  {
   "cell_type": "code",
   "execution_count": null,
   "metadata": {},
   "outputs": [],
   "source": [
    "def check_versions_and_device():\n",
    "  # set the device to the GPU if it is available, otherwise use the CPU\n",
    "  current_dev = torch.device('cuda' if torch.cuda.is_available() else 'cpu')\n",
    "  !nvidia-smi\n",
    "  return current_dev\n",
    "\n",
    "# set a global device variable to use in code\n",
    "dev = check_versions_and_device()\n",
    "print(dev)"
   ]
  },
  {
   "cell_type": "markdown",
   "metadata": {},
   "source": [
    "### Load the pretrain model and history"
   ]
  },
  {
   "cell_type": "code",
   "execution_count": null,
   "metadata": {},
   "outputs": [],
   "source": [
    "file_name = \"final_2081233\"\n",
    "equation_name = \"DHO\"\n",
    "\n",
    "trained_model, \\\n",
    "x_range, \\\n",
    "iterations, \\\n",
    "hid_lay, \\\n",
    "num_equations, \\\n",
    "num_heads, \\\n",
    "loss_hist, \\\n",
    "alpha_list, \\\n",
    "A_list, \\\n",
    "IC_list, \\\n",
    "force_list = load_run_history(equation_name, file_name, dev, prev=False)\n",
    "\n",
    "# function to get A for alpha value and DHO equation\n",
    "def get_A(alpha):\n",
    "    return torch.tensor([[0., -1.], [1., 2*alpha]], device=dev).double()"
   ]
  },
  {
   "cell_type": "markdown",
   "metadata": {},
   "source": [
    "### Define numerical solution"
   ]
  },
  {
   "cell_type": "code",
   "execution_count": null,
   "metadata": {},
   "outputs": [],
   "source": [
    "# Numerical solution\n",
    "def double_coupled_equation(t, y, A, force):\n",
    "    return np.array([force[0].detach().item() - A[0][1] * y[1] - A[0][0] * y[0],\n",
    "                     force[1].detach().item() - A[1][0] * y[0] - A[1][1] * y[1]])\n",
    "\n",
    "r_tol = 1e-4\n",
    "numerical_sol_fct_radau = lambda x, v, A, force: (solve_ivp(double_coupled_equation, [x_range[0], x_range[1]],\n",
    "                                                  v.squeeze(), args=(A, force), t_eval=x.squeeze(), method=\"Radau\", rtol=r_tol).y)\n",
    "\n",
    "numerical_sol_fct_rk45 = lambda x, v, A, force: (solve_ivp(double_coupled_equation, [x_range[0], x_range[1]],\n",
    "                                                    v.squeeze(), args=(A, force), t_eval=x.squeeze(), method=\"RK45\", rtol=r_tol).y)\n",
    "\n",
    "\n",
    "numerical_methods = {\"RK45\": numerical_sol_fct_rk45, \"Radau\": numerical_sol_fct_radau}\n"
   ]
  },
  {
   "cell_type": "markdown",
   "metadata": {},
   "source": [
    "### Plot training result"
   ]
  },
  {
   "cell_type": "code",
   "execution_count": null,
   "metadata": {},
   "outputs": [],
   "source": [
    "plot_loss_and_all_solution(x_range=x_range, true_functs=numerical_sol_fct_radau,\n",
    "                           trained_model=trained_model, IC_list=IC_list, A_list=A_list,\n",
    "                           force=force_list, train_losses=loss_hist, device=dev)"
   ]
  },
  {
   "cell_type": "markdown",
   "metadata": {},
   "source": [
    "## Transfer Learning"
   ]
  },
  {
   "cell_type": "markdown",
   "metadata": {},
   "source": [
    "### Extract H "
   ]
  },
  {
   "cell_type": "code",
   "execution_count": null,
   "metadata": {},
   "outputs": [],
   "source": [
    "# forward pass to extract H\n",
    "size = 512\n",
    "H, H_0, dH_dt_new, t_eval = compute_H_and_dH_dt(x_range[0], x_range[1], trained_model, num_equations, hid_lay, size, dev)"
   ]
  },
  {
   "cell_type": "markdown",
   "metadata": {},
   "source": [
    "### Transfer to bigger alpha"
   ]
  },
  {
   "cell_type": "code",
   "execution_count": null,
   "metadata": {},
   "outputs": [],
   "source": [
    "# stiff parameter alpha list\n",
    "alpha_transfer = 20\n",
    "\n",
    "transfer_A = get_A(alpha_transfer)\n",
    "force_transfer = force_list[0]\n",
    "IC_transfer = IC_list[0]\n",
    "\n",
    "# compute the transfer learned solution\n",
    "M_inv_new, W_out_new_A, force_terms_new, total_time = analytically_compute_weights(dH_dt_new, H, H_0, t_eval,\n",
    "                                                                       IC_transfer, transfer_A, force_transfer)\n",
    "\n",
    "# plot the transfer learned and true solutions\n",
    "plot_transfer_learned_and_analytical(H, W_out_new_A, t_eval, IC_transfer, transfer_A, force_transfer,\n",
    "                                     num_equations, numerical_sol_fct_radau)"
   ]
  },
  {
   "cell_type": "markdown",
   "metadata": {},
   "source": [
    "## Comparative analysis \n",
    "\n",
    "- Solve iteratively for several $\\alpha$ value\n",
    "- Solve with:\n",
    "    - PINNS trasnfer learning (only A change)\n",
    "    - RK45\n",
    "    - Radeau"
   ]
  },
  {
   "cell_type": "code",
   "execution_count": null,
   "metadata": {},
   "outputs": [],
   "source": [
    "import time\n",
    "from collections import defaultdict\n",
    "from tqdm import tqdm\n",
    "\n",
    "\n",
    "alpha_list_transfer = [i for i in range(5, 80, 5)]\n",
    "log_scale = False\n",
    "#alpha_list_transfer = [i for i in range(2, 41, 2)]\n",
    "\n",
    "computational_time = defaultdict(list)\n",
    "max_error = defaultdict(list)\n",
    "mean_error = defaultdict(list)\n",
    "\n",
    "solution = defaultdict(list)\n",
    "\n",
    "length = t_eval.shape[0]\n",
    "\n",
    "for alpha in tqdm(alpha_list_transfer):\n",
    "\n",
    "    transfer_A = get_A(alpha)\n",
    "    force_transfer = force_list[0]\n",
    "    IC_transfer = IC_list[0]\n",
    "\n",
    "    # solve with PINNS\n",
    "    M_inv_new, W_out_new_A, force_terms_new, total_time = analytically_compute_weights(dH_dt_new, H, H_0, t_eval,\n",
    "                                                                                       IC_transfer, transfer_A,\n",
    "                                                                                       force_transfer, verbose=False)\n",
    "    pinns_sol = torch.matmul(H.double(), W_out_new_A.double())\n",
    "    solution[\"PINNS\"].append(np.swapaxes(pinns_sol.detach().cpu().numpy().squeeze(), 0, 1))\n",
    "    computational_time[\"PINNS\"].append(total_time)\n",
    "\n",
    "    # solve with numerical methods\n",
    "    for method, fct in numerical_methods.items():\n",
    "        start = time.time()\n",
    "        numerical_sol = fct(t_eval.detach().cpu().numpy(),\n",
    "                            IC_transfer.detach().cpu(),\n",
    "                            transfer_A.cpu(),\n",
    "                            force_transfer.detach().cpu())\n",
    "        solution[method].append(numerical_sol)\n",
    "        end = time.time()\n",
    "        computational_time[method].append(end-start)"
   ]
  },
  {
   "cell_type": "markdown",
   "metadata": {},
   "source": [
    "### Plot the computational time"
   ]
  },
  {
   "cell_type": "code",
   "execution_count": null,
   "metadata": {},
   "outputs": [],
   "source": [
    "color = {\"PINNS\": 'orange', \"RK45\": 'b', \"Radau\": 'g', 'LSODA': 'm', \"True\": (1, 0, 0, 0.5)}\n",
    "fig, ax = plt.subplots(1, tight_layout=True, figsize=(13, 4))\n",
    "\n",
    "for method, time in computational_time.items():\n",
    "\n",
    "    ax.plot(alpha_list_transfer, time, \"-o\", color=color[method], label=f\"{method}\", linewidth=2 )\n",
    "\n",
    "ax.set_title(r\"Computational Time solving Equation with increasing Stiffness\", fontsize=20)\n",
    "ax.set_xlabel(r'Stiffness parameter ($\\alpha$) and ratio ($SR$)', fontsize=16)\n",
    "ax.set_ylabel('Time', fontsize=16)\n",
    "ax.set_xticks(alpha_list_transfer[::2], [r\"$\\alpha$=\" + str(2*i) + \"\\n\" +rf\"$SR$={4*i**2}\" for i in alpha_list_transfer[::2]])\n",
    "ax.grid()\n",
    "ax.tick_params(axis='x', labelsize=14)\n",
    "ax.tick_params(axis='y', labelsize=16)\n",
    "ax.legend(loc='best', fontsize=16)"
   ]
  },
  {
   "cell_type": "markdown",
   "metadata": {},
   "source": [
    "### Plot MEA and MaxAE"
   ]
  },
  {
   "cell_type": "code",
   "execution_count": null,
   "metadata": {},
   "outputs": [],
   "source": [
    "fig, ax = plt.subplots(1, tight_layout=True, figsize=(13, 4))\n",
    "\n",
    "mae_y1 = np.abs(np.array(solution[\"PINNS\"])-np.array(solution[\"Radau\"])).mean(2)[:, 0]\n",
    "ax.plot(alpha_list_transfer, mae_y1, \"-o\", label=\"$MAE$ ${y_1}$\", linewidth=2, markersize=6)\n",
    "\n",
    "mae_y2 = np.abs(np.array(solution[\"PINNS\"])-np.array(solution[\"Radau\"])).mean(2)[:, 1]\n",
    "ax.plot(alpha_list_transfer, mae_y2, \"-o\", label=\"$MAE$ ${y_2}$\", linewidth=2, markersize=6)\n",
    "\n",
    "maxae_y1 = np.abs(np.array(solution[\"PINNS\"])-np.array(solution[\"Radau\"])).max(2)[:, 0]\n",
    "ax.plot(alpha_list_transfer, maxae_y1, \"-x\", color=\"#1f77b4\", label=\"$MaxAE$ ${y_1}$\", linewidth=2, markersize=8)\n",
    "\n",
    "maxae_y2 = np.abs(np.array(solution[\"PINNS\"])-np.array(solution[\"Radau\"])).max(2)[:, 1]\n",
    "ax.plot(alpha_list_transfer, maxae_y2, \"-x\", color=\"#ff7f0e\", label=\"MaxAE ${y_2}$\", linewidth=2, markersize=8)\n",
    "\n",
    "ax.set_yscale(\"log\")\n",
    "ax.set_title(r\"Mean and Max Absolute Error with increasing Stiffness\", fontsize=20)\n",
    "ax.set_xlabel(r'Stiffness parameter $\\alpha$ and ratio $SR$', fontsize=16)\n",
    "ax.set_ylabel('Absolute Error', fontsize=16)\n",
    "ax.set_xticks(alpha_list_transfer[::2], [r\"$\\alpha$=\" + str(2*i) + \"\\n\" +rf\"$SR$={4*i**2}\" for i in alpha_list_transfer[::2]])\n",
    "ax.set_yticks([0.1, 0.01, 0.001, 0.0001, 0.00001, 0.000001],\n",
    "              [r\"$10^{-1}$\", r\"$10^{-2}$\", r\"$10^{-3}$\", r\"$10^{-4}$\", r\"$10^{-5}$\", r\"$10^{-6}$\"])\n",
    "ax.grid()\n",
    "ax.tick_params(axis='x', labelsize=14)\n",
    "ax.tick_params(axis='y', labelsize=16)\n",
    "ax.legend(loc='best', fontsize=14)"
   ]
  },
  {
   "cell_type": "markdown",
   "metadata": {},
   "source": [
    "### Save MAE and MaxAE results over several alpha value"
   ]
  },
  {
   "cell_type": "code",
   "execution_count": null,
   "metadata": {},
   "outputs": [],
   "source": [
    "history = {}\n",
    "history[\"alpha_list\"] = alpha_list\n",
    "history[\"mae_y1\"] = mae_y1\n",
    "history[\"mae_y2\"] = mae_y2\n",
    "history[\"maxae_y1\"] = maxae_y1\n",
    "history[\"maxae_y2\"] = maxae_y2\n",
    "\n",
    "current_path = Path.cwd().parent.parent\n",
    "path = os.path.join(current_path, \"result_history\")\n",
    "with open(os.path.join(path, \"DHO_Error_Transfer.json\"),  \"w\") as fp:\n",
    "    json.dump(history, fp)"
   ]
  }
 ],
 "metadata": {
  "kernelspec": {
   "display_name": "pinns",
   "language": "python",
   "name": "python3"
  },
  "language_info": {
   "codemirror_mode": {
    "name": "ipython",
    "version": 3
   },
   "file_extension": ".py",
   "mimetype": "text/x-python",
   "name": "python",
   "nbconvert_exporter": "python",
   "pygments_lexer": "ipython3",
   "version": "3.10.9"
  }
 },
 "nbformat": 4,
 "nbformat_minor": 2
}
