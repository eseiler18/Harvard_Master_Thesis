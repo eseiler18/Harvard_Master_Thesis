{
 "cells": [
  {
   "cell_type": "markdown",
   "metadata": {},
   "source": [
    "### Perturbation transfer learning for Duffing equation\n",
    "$$\n",
    "\\begin{align*}\n",
    "\\frac{dx}{dt} - y &= 0,\\quad \\frac{dy}{dt} + \\alpha y + \\delta x + \\beta x^3 &= \\gamma cos(\\omega t)\n",
    "\\end{align*}\n",
    "$$\n",
    "with initial conditions $x_0=1$ and $y_0=0.5$, $\\delta=0.1$, $\\beta=0.1$, $\\gamma=1$, $\\omega=1$, $\\alpha>1$ is the stiffness parameter.\n",
    "\n",
    "Then by $\\beta$-perturbation expansion $\\tilde{x}=\\sum_{i=0}^{\\infty}\\beta^iX_i$ and $\\tilde{y}=\\sum_{i=0}^{\\infty}\\beta^iY_i$ with have these systems for the various power of $\\beta^i$ with $i=0, 1, 2, ...$\n",
    "$$\n",
    "\\begin{align*}\n",
    "\\frac{dX_i}{dt} - Y_i &= 0, \\quad \\frac{dY_i}{dt} + \\delta X_i + \\alpha Y_i  &= f_i \\\\\n",
    "\\end{align*} \\\\\n",
    "\\begin{align*}\n",
    "f_i = \\begin{cases}\n",
    "\\gamma cos(\\omega t)\\ \\ \\text{for} \\ i=0 \\\\\n",
    "-\\sum_{a+b+c=i-1}^{0<a,b,c<p}\\phi(a,b,c)X_aX_bX_c \\ \\ \\text{with} \\ \\phi(a,b,c)=\\begin{cases}\n",
    "6 \\ \\text{if} \\ a\\ne b\\ne c \\\\\n",
    "1 \\ \\text{if} \\ a=b=c \\\\\n",
    "3 \\ \\text{otherwise}\n",
    "\\end{cases}\n",
    "\\end{cases}\n",
    "\\end{align*}\n",
    "$$\n",
    "\n",
    "So these are linear system with A = $\n",
    "\\begin{bmatrix}\n",
    "  0 & -1 \\\\\n",
    "  \\delta & \\alpha \n",
    "\\end{bmatrix}\n",
    "$ and f = $\\begin{bmatrix}\n",
    "  0 \\\\\n",
    "  f_i \n",
    "\\end{bmatrix}$\n"
   ]
  },
  {
   "cell_type": "code",
   "execution_count": null,
   "metadata": {},
   "outputs": [],
   "source": [
    "%load_ext autoreload\n",
    "%autoreload 2"
   ]
  },
  {
   "cell_type": "code",
   "execution_count": null,
   "metadata": {},
   "outputs": [],
   "source": [
    "# imports\n",
    "import torch\n",
    "import matplotlib.pyplot as plt\n",
    "import numpy as np\n",
    "import sys\n",
    "import json\n",
    "import os\n",
    "from scipy.integrate import solve_ivp\n",
    "from tqdm.auto import tqdm\n",
    "from collections import defaultdict\n",
    "import time\n",
    "\n",
    "# Add parent directory to sys.path\n",
    "from pathlib import Path\n",
    "current_path = Path.cwd()\n",
    "parent_dir = current_path.parent.parent\n",
    "sys.path.append(str(parent_dir))\n",
    "\n",
    "# Import necessary modules\n",
    "from src.utils_plot import plot_loss_and_all_solution\n",
    "from src.load_save import load_run_history\n",
    "from src.transfer_learning import compute_H_and_dH_dt, analytically_compute_weights\n",
    "from src.nonlinear_transfer_learning import solve_perturbation_TL\n",
    "\n",
    "from src.utils_plot import plot_transfer_learned_and_analytical\n",
    "\n",
    "torch.autograd.set_detect_anomaly(False)\n",
    "torch.autograd.profiler.profile(False)\n",
    "torch.autograd.profiler.emit_nvtx(False)"
   ]
  },
  {
   "cell_type": "code",
   "execution_count": null,
   "metadata": {},
   "outputs": [],
   "source": [
    "def check_versions_and_device():\n",
    "  # set the device to the GPU if it is available, otherwise use the CPU\n",
    "  current_dev = torch.device('cuda' if torch.cuda.is_available() else 'cpu')\n",
    "  !nvidia-smi\n",
    "  return current_dev\n",
    "\n",
    "# set a global device variable to use in code\n",
    "dev = check_versions_and_device()\n",
    "print(dev)"
   ]
  },
  {
   "cell_type": "markdown",
   "metadata": {},
   "source": [
    "### Load the pretrain model and history"
   ]
  },
  {
   "cell_type": "code",
   "execution_count": null,
   "metadata": {},
   "outputs": [],
   "source": [
    "file_name = \"base_model_1311309\"\n",
    "equation_name = \"Duffing\"\n",
    "\n",
    "trained_model, \\\n",
    "x_range, \\\n",
    "iterations, \\\n",
    "hid_lay, \\\n",
    "num_equations, \\\n",
    "num_heads, \\\n",
    "loss_hist, \\\n",
    "alpha_list, \\\n",
    "A_list, \\\n",
    "IC_list, \\\n",
    "force_list = load_run_history(equation_name, file_name, dev, prev=False)\n",
    "\n",
    "# create the A matrix associated with the ODE\n",
    "def get_A(alpha):\n",
    "    return torch.tensor([[0., -1.], [0.1, alpha]], device=dev).double() \n",
    "\n",
    "force_list = [\n",
    "    lambda t: torch.cat([torch.zeros(len(t), device=dev).unsqueeze(1), torch.cos(t).unsqueeze(1)], dim=1).double()\n",
    "    if not isinstance(t, (float, int))\n",
    "    else np.array([0, np.cos(t)]).T\n",
    "    for _ in range(num_heads)\n",
    "]\n",
    "\n",
    "# function to numerically compute the solution to any set of two coupled, linear first-order ODES\n",
    "def double_coupled_equation(t, y, A, force):\n",
    "    return np.array([force(t)[0] - A[0][1] * y[1] - A[0][0] * y[0],\n",
    "                     force(t)[1] - A[1][0] * y[0] - A[1][1] * y[1]])\n",
    "\n",
    "numerical_sol_fct = lambda x, v, A, force: (solve_ivp(double_coupled_equation, [x_range[0], x_range[1]],\n",
    "                                                    v.squeeze(), args=(A, force), t_eval=x.squeeze(), method=\"Radau\").y)\n",
    "\n",
    "plot_loss_and_all_solution(x_range=x_range, true_functs=numerical_sol_fct,\n",
    "                           trained_model=trained_model, IC_list=IC_list, A_list=A_list,\n",
    "                           force=force_list, train_losses=loss_hist, device=dev)"
   ]
  },
  {
   "cell_type": "markdown",
   "metadata": {},
   "source": [
    "## Perturbation Transfer Learning"
   ]
  },
  {
   "cell_type": "markdown",
   "metadata": {},
   "source": [
    "### Extract H "
   ]
  },
  {
   "cell_type": "code",
   "execution_count": null,
   "metadata": {},
   "outputs": [],
   "source": [
    "# forward pass to extract H, H0 and dH/dt\n",
    "size = 512\n",
    "H, H_0, dH_dt_new, t_eval = compute_H_and_dH_dt(x_range[0], x_range[1], trained_model, num_equations, hid_lay, size, dev)\n",
    "H = H.double()\n",
    "H_0 = H_0.double()\n",
    "dH_dt_new = dH_dt_new.double()\n",
    "t_eval = t_eval.double()"
   ]
  },
  {
   "cell_type": "markdown",
   "metadata": {},
   "source": [
    "### Try to transfer learning on the linear form"
   ]
  },
  {
   "cell_type": "code",
   "execution_count": null,
   "metadata": {},
   "outputs": [],
   "source": [
    "# Transfer on the linear system Choose alpha, IC and force to transfer on\n",
    "alpha_transfer = 20\n",
    "A_transfer = get_A(alpha=alpha_transfer)\n",
    "IC_transfer = IC_list[0]\n",
    "force_transfer = force_list[0]\n",
    "\n",
    "M_inv, W_out, force_terms, total_time = analytically_compute_weights(dH_dt_new, H, H_0, t_eval,\n",
    "                                                                     IC_transfer, A_transfer,\n",
    "                                                                     force_transfer)\n",
    "\n",
    "# function to numerically compute the solution to any set of two coupled, linear first-order ODES\n",
    "def double_coupled_equation(t, y, A, force):\n",
    "    return np.array([force(t)[0] - A[0][1] * y[1] - A[0][0] * y[0],\n",
    "                     force(t)[1] - A[1][0] * y[0] - A[1][1] * y[1]])\n",
    "\n",
    "numerical_sol_fct = lambda x, v, A, force: (solve_ivp(double_coupled_equation, [x_range[0], x_range[1]],\n",
    "                                                    v.squeeze(), args=(A, force), t_eval=x.squeeze(), method=\"Radau\").y)\n",
    "plot_transfer_learned_and_analytical(H, W_out, t_eval, IC_transfer, A_transfer,\n",
    "                                     force_transfer, num_equations, numerical_sol_fct)"
   ]
  },
  {
   "cell_type": "markdown",
   "metadata": {},
   "source": [
    "# Perturbation transfer learning"
   ]
  },
  {
   "cell_type": "markdown",
   "metadata": {},
   "source": [
    "### Choose transfer equaiton parameters\n",
    "\n",
    "-   stiffness parameter $\\alpha$\n",
    "-   nonlinear parameter $\\beta$\n",
    "-   iniital conditions $IC$\n",
    "-   force function $f$"
   ]
  },
  {
   "cell_type": "code",
   "execution_count": null,
   "metadata": {},
   "outputs": [],
   "source": [
    "alpha_transfer = 40;\n",
    "A_transfer = get_A(alpha=alpha_transfer)\n",
    "beta = 0.5\n",
    "IC_transfer = torch.tensor([[1.], [0.5]], device=dev).double()\n",
    "force_transfer = force_list[0]\n",
    "force_transfer = lambda t: torch.cat([torch.zeros(len(t), device=dev).unsqueeze(1), torch.cos(t).unsqueeze(1)], dim=1).double() if not isinstance(t, (float, int)) else np.array([0, np.cos(t)]).T"
   ]
  },
  {
   "cell_type": "markdown",
   "metadata": {},
   "source": [
    "### Compute numerical solution"
   ]
  },
  {
   "cell_type": "code",
   "execution_count": null,
   "metadata": {},
   "outputs": [],
   "source": [
    "domain = (x_range[0], x_range[1]);\n",
    "\n",
    "def numerical_non_linear_solution(alpha, beta, u0, domain, t_eval, method=\"Radau\"):\n",
    "  def F(t, y):\n",
    "    return [y[1],\n",
    "            -alpha*y[1] - 0.1*y[0] - beta*y[0]**3 + np.cos(t)]\n",
    "  solution = solve_ivp(F, domain, u0, t_eval=t_eval, method=method)\n",
    "  return solution\n",
    "\n",
    "non_linear_num_sol = numerical_non_linear_solution(alpha_transfer, beta, IC_transfer.detach().cpu().squeeze(), domain, t_eval.detach().cpu().numpy().squeeze())"
   ]
  },
  {
   "cell_type": "markdown",
   "metadata": {},
   "source": [
    "### Component for perturbation transfer learning\n",
    "\n",
    "-   $\\phi$ function\n",
    "-   numerical solution of each system"
   ]
  },
  {
   "cell_type": "code",
   "execution_count": null,
   "metadata": {},
   "outputs": [],
   "source": [
    "# functions to calculate the force function of each system p\n",
    "def force_func_index(n):\n",
    "    solution_index = [] # ind1, ind2, ind3, coeff\n",
    "    for a in range(n+1):\n",
    "        for b in range(a+1):\n",
    "              for c in range(b+1):\n",
    "                if ((a+b+c)==n):\n",
    "                    if ((a==b) & (b==c)):\n",
    "                        solution_index.append([a, b, c, 1])\n",
    "                    elif ((a!=b) & (b!=c)):\n",
    "                        solution_index.append([a, b, c, 6])\n",
    "                    else:\n",
    "                        solution_index.append([a, b, c, 3])\n",
    "    return solution_index\n",
    "\n",
    "def force_function_PINNS(i, alpha, list_force_index, PINNS_list):\n",
    "      result = 0\n",
    "      for force_ind in list_force_index[i-1]:\n",
    "        result += force_ind[-1]*(PINNS_list[force_ind[0]][:, 0, :]*PINNS_list[force_ind[1]][:, 0, :]*PINNS_list[force_ind[2]][:, 0, :])\n",
    "      return torch.hstack((torch.zeros_like(result), -result))\n",
    "\n",
    "def force_function_numerical(i, alpha, list_force_index, numerical_pert_list):\n",
    "      result = 0\n",
    "      for force_ind in list_force_index[i-1]:\n",
    "        result += force_ind[-1]*(numerical_pert_list[force_ind[0]][0, :]*numerical_pert_list[force_ind[1]][0, :]*numerical_pert_list[force_ind[2]][0, :])\n",
    "      return np.vstack((np.zeros_like(result), -result)).T\n",
    "\n",
    "\n",
    "def solve_numericaly_perturbation(t, y, A, force, t_eval):\n",
    "    index = np.argmin(np.abs(t_eval- t))\n",
    "    return np.array([force[index, 0] - A[0][1] * y[1] - A[0][0] * y[0],\n",
    "                     force[index, 1] - A[1][0] * y[0] - A[1][1] * y[1]])\n",
    "\n",
    "numerical_perturbation_fct = lambda x, v, A, force: (solve_ivp(solve_numericaly_perturbation, [x_range[0], x_range[1]],\n",
    "                                                    v.squeeze(), args=(A, force, x), t_eval=x.squeeze(), method=\"Radau\"))\n"
   ]
  },
  {
   "cell_type": "markdown",
   "metadata": {},
   "source": [
    "### Solve the p systems for perturbation transfer learning"
   ]
  },
  {
   "cell_type": "code",
   "execution_count": null,
   "metadata": {},
   "outputs": [],
   "source": [
    "p=10\n",
    "compute_numerical_pert = False\n",
    "\n",
    "solution_PINNS, \\\n",
    "solution_numerical, \\\n",
    "PINNS_list, \\\n",
    "numerical_pert_list, \\\n",
    "total_time = solve_perturbation_TL(beta=beta, p=p, t_eval=t_eval,\n",
    "                                   alpha=alpha_transfer, A=A_transfer,\n",
    "                                   force=force_transfer, IC=IC_transfer,\n",
    "                                   H=H, H_0=H_0, dH_dt=dH_dt_new, dev=dev,\n",
    "                                   force_func_index=force_func_index,\n",
    "                                   numerical_sol_fct=numerical_sol_fct,\n",
    "                                   force_function_PINNS=force_function_PINNS,\n",
    "                                   force_function_numerical=force_function_numerical,\n",
    "                                   compute_numerical_pert=compute_numerical_pert,\n",
    "                                   numerical_perturbation_fct=numerical_perturbation_fct,\n",
    "                                   verbose=True)"
   ]
  },
  {
   "cell_type": "markdown",
   "metadata": {},
   "source": [
    "### Plot results"
   ]
  },
  {
   "cell_type": "code",
   "execution_count": null,
   "metadata": {},
   "outputs": [],
   "source": [
    "t_numpy = t_eval.detach().cpu().numpy()\n",
    "\n",
    "fig, ax = plt.subplots(1, 2, figsize=(18, 5), tight_layout=False)\n",
    "# # plot PINNS solution\n",
    "ax[0].plot(t_numpy, solution_PINNS[:, 0], 'x', markersize=8, label=f'PINNS $y_1$',\n",
    "                  linewidth=3.5)\n",
    "ax[0].plot(t_numpy, solution_PINNS[:, 1], 'x', markersize=8, label=f'PINNS $y_2$',\n",
    "                  linewidth=3.5)\n",
    "# plot Numerical solution\n",
    "ax[0].plot(t_numpy, non_linear_num_sol.y[0], label=f'Numerical $y_{1}$', linewidth=2.5)\n",
    "ax[0].plot(t_numpy, non_linear_num_sol.y[1], label=f'Numerical $y_{2}$', linewidth=2.5)\n",
    "\n",
    "# plot numerical solution by perturbation\n",
    "if compute_numerical_pert:\n",
    "    ax[0].plot(t_numpy[::10], solution_numerical[::10, 0], '*', c='blue', label='Numerical perturbation x', markersize=5)\n",
    "    ax[0].plot(t_numpy[::10], solution_numerical[::10, 1], '*', c='orange', label='Numerical perturbation y')\n",
    "\n",
    "ax[0].set_title(\"$y(t)$ for PINNs Transfer and Numerical Solutions\", fontsize=20)\n",
    "ax[0].set_xlabel(\"t\", fontsize=16)\n",
    "ax[0].set_ylabel(\"$y(t)$\", fontsize=16)\n",
    "ax[0].tick_params(axis='x', labelsize=16)\n",
    "ax[0].tick_params(axis='y', labelsize=16)\n",
    "ax[0].grid()\n",
    "ax[0].legend()\n",
    "\n",
    "# plot errors\n",
    "ax[1].plot(t_numpy, np.abs(solution_PINNS[:, 0]-non_linear_num_sol.y[0]), label='Error $y_1$');\n",
    "ax[1].plot(t_numpy, np.abs(solution_PINNS[:, 1]-non_linear_num_sol.y[1]), label='Error $y_2$');\n",
    "ax[1].set_title(\"Absolute Error\", fontsize=20)\n",
    "ax[1].set_xlabel(\"$t$\", fontsize=16)\n",
    "ax[1].set_yscale('log')\n",
    "ax[1].set_ylabel('Error Value', fontsize=16)\n",
    "ax[1].tick_params(axis='x', labelsize=16)\n",
    "ax[1].tick_params(axis='y', labelsize=16)\n",
    "ax[1].grid()\n",
    "ax[1].legend()\n",
    "#fig.suptitle(fr\"Solving non linear stiff ODE with $\\alpha={alpha_transfer}$, $\\beta={beta:.2f}$, $p={p}$\")\n"
   ]
  },
  {
   "cell_type": "markdown",
   "metadata": {},
   "source": [
    "### Plot the PINNs and numerical solution of each systems"
   ]
  },
  {
   "cell_type": "code",
   "execution_count": null,
   "metadata": {},
   "outputs": [],
   "source": [
    "# plot Xi\n",
    "nb_row_plot = (p+1)//4+1 if (p+1)%4!=0 else (p+1)//4\n",
    "fig, ax = plt.subplots(nb_row_plot, 4, figsize=(15, nb_row_plot*2))\n",
    "for i in range(p+1):\n",
    "  j = i//4; k = i%4\n",
    "  pert_coeff = (beta)**i\n",
    "  ax[j][k].plot(t_numpy, PINNS_list[i][:, 0]*pert_coeff, label=\"PINNS\")\n",
    "  if compute_numerical_pert:\n",
    "    ax[j][k].plot(t_numpy, numerical_pert_list[i][:, 0]*pert_coeff, '--', label=\"Numerical\")\n",
    "  ax[j][k].set_title(rf\"$\\beta^{i} x_{i}$\")\n",
    "  ax[j][k].legend(loc=\"best\")\n",
    "fig.suptitle(fr\"Linear systems X solution with $\\alpha={alpha_transfer}$, $\\beta={beta:.2f}$, $p={p}$\")\n",
    "fig.tight_layout()\n",
    "\n",
    "# plot Yi\n",
    "fig, ax = plt.subplots(nb_row_plot, 4, figsize=(15, nb_row_plot*2))\n",
    "for i in range(p+1):\n",
    "  j = i//4; k = i%4\n",
    "  pert_coeff = (beta)**i\n",
    "  ax[j][k].plot(t_numpy, PINNS_list[i][:, 1]*pert_coeff, label=\"PINNS\")\n",
    "  if compute_numerical_pert:\n",
    "    ax[j][k].plot(t_numpy, numerical_pert_list[i][:, 1]*pert_coeff, '--', label=\"Numerical\")\n",
    "  ax[j][k].set_title(rf\"$\\beta^{i} y_{i}$\")\n",
    "  ax[j][k].legend(loc=\"best\")\n",
    "fig.suptitle(fr\"Linear systems Y solution with $\\alpha={alpha_transfer}$, $\\beta={beta:.2f}$, $p={p}$\")\n",
    "fig.tight_layout()"
   ]
  },
  {
   "cell_type": "markdown",
   "metadata": {},
   "source": [
    "# Hyperparameter optimization"
   ]
  },
  {
   "cell_type": "markdown",
   "metadata": {},
   "source": [
    "## First experiment\n",
    "-   Fix $\\alpha$\n",
    "-   Changing $p$ and $\\beta$"
   ]
  },
  {
   "cell_type": "code",
   "execution_count": null,
   "metadata": {},
   "outputs": [],
   "source": [
    "alpha_transfer = 100\n",
    "A_transfer = get_A(alpha=alpha_transfer)\n",
    "\n",
    "p_list = [i for i in range(1, 30, 1)]\n",
    "beta_list = [0.2, 0.3, 0.4, 0.5, 0.6, 0.7, 0.8]\n",
    "\n",
    "compute_numerical_pert = False\n",
    "MSE_list = []\n",
    "MaxAE_list = []\n",
    "for beta in tqdm(beta_list):\n",
    "    MSE_list.append([])\n",
    "    MaxAE_list.append([])\n",
    "    non_linear_num_sol_beta = numerical_non_linear_solution(alpha_transfer, beta, IC_transfer.detach().cpu().squeeze(), domain, t_eval.detach().cpu().numpy().squeeze())\n",
    "    for p in tqdm(p_list):\n",
    "        sp, sn, _, _, tt = solve_perturbation_TL(beta=beta, p=p, t_eval=t_eval,\n",
    "                                                 alpha=alpha_transfer, A=A_transfer,\n",
    "                                                 force=force_transfer, IC=IC_transfer,\n",
    "                                                 H=H, H_0=H_0, dH_dt=dH_dt_new, dev=dev,\n",
    "                                                 force_func_index=force_func_index,\n",
    "                                                 numerical_sol_fct=numerical_sol_fct,\n",
    "                                                 force_function_PINNS=force_function_PINNS,\n",
    "                                                 force_function_numerical=force_function_numerical,\n",
    "                                                 compute_numerical_pert=compute_numerical_pert,\n",
    "                                                 numerical_perturbation_fct=numerical_perturbation_fct,\n",
    "                                                 verbose=False)\n",
    "        MSE_list[-1].append([np.mean(np.abs(non_linear_num_sol_beta.y[0]- sp[:, 0])),\n",
    "                        np.mean(np.abs(non_linear_num_sol_beta.y[1]- sp[:, 1]))])\n",
    "        MaxAE_list[-1].append([np.max(np.abs(non_linear_num_sol_beta.y[0]- sp[:, 0])),\n",
    "                        np.max(np.abs(non_linear_num_sol_beta.y[1]- sp[:, 1]))])"
   ]
  },
  {
   "cell_type": "markdown",
   "metadata": {},
   "source": [
    "### Set up color for the plot"
   ]
  },
  {
   "cell_type": "code",
   "execution_count": null,
   "metadata": {},
   "outputs": [],
   "source": [
    "def generate_blue_gradient(n):\n",
    "    # Create a linear gradient from light to dark blue\n",
    "    colors = plt.cm.Blues(np.linspace(0, 1, n))\n",
    "    # Convert RGBA values to RGB\n",
    "    rgb_colors = [(r, g, b) for r, g, b, _ in colors]\n",
    "    \n",
    "    return rgb_colors\n",
    "def generate_red_gradient(n):\n",
    "    # Create a linear gradient from light to dark blue\n",
    "    colors = plt.cm.Reds(np.linspace(0, 1, n))\n",
    "    \n",
    "    # Convert RGBA values to RGB\n",
    "    rgb_colors = [(r, g, b) for r, g, b, _ in colors]\n",
    "    \n",
    "    return rgb_colors\n",
    "\n",
    "n_colors = 20\n",
    "blue_gradient = generate_blue_gradient(n_colors)\n",
    "red_gradient = generate_red_gradient(n_colors)"
   ]
  },
  {
   "cell_type": "markdown",
   "metadata": {},
   "source": [
    "### Plot MEA"
   ]
  },
  {
   "cell_type": "code",
   "execution_count": null,
   "metadata": {},
   "outputs": [],
   "source": [
    "# Create subplots\n",
    "fig, ax= plt.subplots(1, 2, figsize=(15, 4))\n",
    "\n",
    "# Plot for y1\n",
    "for i, beta in enumerate(beta_list):\n",
    "    ax[0].plot(p_list, np.array(MSE_list[i])[:, 0], label=rf\"$\\beta={beta}$\", color=blue_gradient[i+4], linewidth=2)\n",
    "ax[0].set_title(r\"MAE of $y_1$ vs $p$ for $\\beta \\in [0, 1]$\", fontsize=20)\n",
    "ax[0].set_xlabel(\"Number of system $p$\", fontsize=19)\n",
    "ax[0].set_yscale('log')\n",
    "ax[0].tick_params(axis='x', labelsize=16)\n",
    "ax[0].tick_params(axis='y', labelsize=16)\n",
    "ax[0].grid()\n",
    "ax[0].legend()\n",
    "\n",
    "# Plot for y2\n",
    "for i, beta in enumerate(beta_list):\n",
    "    ax[1].plot(p_list, np.array(MSE_list[i])[:, 1], label=rf\"$\\beta={beta}$\", color=red_gradient[i+4], linewidth=2)\n",
    "ax[1].set_title(r\"MAE of $y_2$ vs $p$ for $\\beta \\in [0, 1]$\", fontsize=19)\n",
    "ax[1].set_xlabel(\"Number of system $p$\", fontsize=16)\n",
    "ax[1].set_yscale('log')\n",
    "ax[1].tick_params(axis='x', labelsize=16)\n",
    "ax[1].tick_params(axis='y', labelsize=16)\n",
    "ax[1].grid()\n",
    "ax[1].legend()"
   ]
  },
  {
   "cell_type": "markdown",
   "metadata": {},
   "source": [
    "## Second experiment\n",
    "-   Fix $\\beta$\n",
    "-   Changing $p$ and $\\alpha$"
   ]
  },
  {
   "cell_type": "code",
   "execution_count": null,
   "metadata": {},
   "outputs": [],
   "source": [
    "beta = 0.5\n",
    "p_list = [i for i in range(1, 5, 1)]\n",
    "alpha_list = [10, 20, 30, 40, 50, 60, 70, 80, 90, 100, 110, 120, 130, 140, 150]\n",
    "compute_numerical_pert = False\n",
    "MSE_list = []\n",
    "MaxAE_list = []\n",
    "for alpha_transfer in tqdm(alpha_list):\n",
    "    MSE_list.append([])\n",
    "    MaxAE_list.append([])\n",
    "    A_transfer = get_A(alpha=alpha_transfer)\n",
    "    non_linear_num_sol_beta = numerical_non_linear_solution(alpha_transfer, beta, IC_transfer.detach().cpu().squeeze(), domain, t_eval.detach().cpu().numpy().squeeze())\n",
    "    for p in tqdm(p_list):\n",
    "        sp, sn, _, _, tt = solve_perturbation_TL(beta=beta, p=p, t_eval=t_eval,\n",
    "                                                 alpha=alpha_transfer, A=A_transfer,\n",
    "                                                 force=force_transfer, IC=IC_transfer,\n",
    "                                                 H=H, H_0=H_0, dH_dt=dH_dt_new, dev=dev,\n",
    "                                                 force_func_index=force_func_index,\n",
    "                                                 numerical_sol_fct=numerical_sol_fct,\n",
    "                                                 force_function_PINNS=force_function_PINNS,\n",
    "                                                 force_function_numerical=force_function_numerical,\n",
    "                                                 compute_numerical_pert=compute_numerical_pert,\n",
    "                                                 numerical_perturbation_fct=numerical_perturbation_fct,\n",
    "                                                 verbose=False)\n",
    "        MSE_list[-1].append([np.mean(np.abs(non_linear_num_sol_beta.y[0]- sp[:, 0])),\n",
    "                        np.mean(np.abs(non_linear_num_sol_beta.y[1]- sp[:, 1]))])\n",
    "        MaxAE_list[-1].append([np.max(np.abs(non_linear_num_sol_beta.y[0]- sp[:, 0])),\n",
    "                        np.max(np.abs(non_linear_num_sol_beta.y[1]- sp[:, 1]))])"
   ]
  },
  {
   "cell_type": "markdown",
   "metadata": {},
   "source": [
    "### Plot MEA"
   ]
  },
  {
   "cell_type": "code",
   "execution_count": null,
   "metadata": {},
   "outputs": [],
   "source": [
    "# Create subplots\n",
    "fig, ax = plt.subplots(1, 2, figsize=(15, 5.5))\n",
    "\n",
    "# Plot for y1\n",
    "for i, alpha in enumerate(alpha_list):\n",
    "    ax[0].plot(p_list, np.array(MSE_list[i])[:, 0], label=rf\"$\\alpha={alpha}$\", color=blue_gradient[i+4], linewidth=2)\n",
    "ax[0].set_title(r\"MAE of $y_1$ vs $p$ for $\\alpha \\in [10, 100]$\", fontsize=20)\n",
    "ax[0].set_xlabel(\"Number of system $p$\", fontsize=19)\n",
    "ax[0].set_yscale('log')\n",
    "ax[0].tick_params(axis='x', labelsize=16)\n",
    "ax[0].tick_params(axis='y', labelsize=16)\n",
    "ax[0].grid()\n",
    "\n",
    "# Plot for y2\n",
    "for i, alpha in enumerate(alpha_list):\n",
    "    ax[1].plot(p_list, np.array(MSE_list[i])[:, 1], label=rf\"$\\alpha={alpha}$\", color=red_gradient[i+4], linewidth=2)\n",
    "\n",
    "ax[1].set_title(r\"MAE of $y_2$ vs $p$ for $\\alpha \\in [10, 100]$\", fontsize=19)\n",
    "ax[1].set_xlabel(\"Number of system $p$\", fontsize=16)\n",
    "ax[1].set_yscale('log')\n",
    "ax[1].tick_params(axis='x', labelsize=16)\n",
    "ax[1].tick_params(axis='y', labelsize=16)\n",
    "ax[1].grid()\n",
    "\n",
    "# Legend placement in a box under the plot\n",
    "ax[0].legend(loc='upper center', bbox_to_anchor=(0.5, -0.2), ncol=len(alpha_list)//3, fontsize=12)\n",
    "ax[1].legend(loc='upper center', bbox_to_anchor=(0.5, -0.2), ncol=len(alpha_list)//3, fontsize=12)\n",
    "\n",
    "plt.tight_layout()\n",
    "plt.show()"
   ]
  },
  {
   "cell_type": "markdown",
   "metadata": {},
   "source": [
    "## Third experiment\n",
    "-   Fix $p$ and $\\beta$\n",
    "-   Changing $\\alpha$"
   ]
  },
  {
   "cell_type": "code",
   "execution_count": null,
   "metadata": {},
   "outputs": [],
   "source": [
    "MSE_list = np.array(MSE_list)\n",
    "MaxAE_list = np.array(MaxAE_list)\n",
    "\n",
    "MAE_min = MSE_list.min(1)\n",
    "MaxAE_min = MaxAE_list.min(1)\n",
    "\n",
    "fig, ax = plt.subplots(1, figsize=(15, 4))\n",
    "\n",
    "ax.plot(alpha_list, MAE_min[:, 0], \"-o\", label=\"$MAE$ ${y_1}$\", linewidth=2, markersize=6)\n",
    "ax.plot(alpha_list, MAE_min[:, 1],\"-o\", label=\"$MAE$ ${y_2}$\", linewidth=2, markersize=6)\n",
    "ax.plot(alpha_list, MaxAE_min[:, 0], \"-x\", color=\"#1f77b4\", label=\"$MaxAE$ ${y_1}$\", linewidth=2, markersize=8)\n",
    "ax.plot(alpha_list, MaxAE_min[:, 1], \"-x\", color=\"#ff7f0e\", label=\"$MaxAE$ ${y_2}$\", linewidth=2, markersize=8)\n",
    "\n",
    "\n",
    "ax.set_yscale(\"log\")\n",
    "ax.set_title(r\"Mean and Max Absolute Error with increasing Stiffness\", fontsize=20)\n",
    "ax.set_xlabel(r'Stiffness parameter $\\alpha$ and ratio $SR$', fontsize=16)\n",
    "ax.set_ylabel('Absolute Error', fontsize=16)\n",
    "ax.set_xticks(alpha_list, [r\"$\\alpha$=\" + str(i) + \"\\n\" +rf\"$SR$=\" + f\"{i**2}\" for i in alpha_list])\n",
    "ax.set_yticks([0.1, 0.01, 0.001, 0.0001],\n",
    "              [r\"$10^{-1}$\", r\"$10^{-2}$\", r\"$10^{-3}$\", r\"$10^{-4}$\"])\n",
    "ax.grid()\n",
    "ax.tick_params(axis='x', labelsize=9.5)\n",
    "ax.tick_params(axis='y', labelsize=16)\n",
    "ax.legend(loc='best', fontsize=14)"
   ]
  },
  {
   "cell_type": "markdown",
   "metadata": {},
   "source": [
    "### Save MAE and MaxAE results over several alpha value"
   ]
  },
  {
   "cell_type": "code",
   "execution_count": null,
   "metadata": {},
   "outputs": [],
   "source": [
    "history = {}\n",
    "history[\"alpha_list\"] = alpha_list\n",
    "history[\"mae_y1\"] = MAE_min[:, 0].tolist()\n",
    "history[\"mae_y2\"] = MAE_min[:, 1].tolist()\n",
    "history[\"maxae_y1\"] = MaxAE_min[:, 0].tolist()\n",
    "history[\"maxae_y2\"] = MaxAE_min[:, 1].tolist()\n",
    "\n",
    "\n",
    "current_path = Path.cwd().parent.parent\n",
    "path = os.path.join(current_path, \"result_history\")\n",
    "with open(os.path.join(path, \"Duffing_Error_Transfer.json\"),  \"w\") as fp:\n",
    "    json.dump(history, fp)"
   ]
  },
  {
   "cell_type": "markdown",
   "metadata": {},
   "source": [
    "# Comparative analysis with numerical methods on several alpha\n",
    "- Solve iteratively for several alpha value\n",
    "- Solve with:\n",
    "    - PINNS transfer\n",
    "    - RK45\n",
    "    - Radeau"
   ]
  },
  {
   "cell_type": "code",
   "execution_count": null,
   "metadata": {},
   "outputs": [],
   "source": [
    "numerical_sol_fct_radau = lambda x, IC, alpha, beta=beta, domain=domain: numerical_non_linear_solution(alpha, beta, IC, domain, x,\n",
    "                                                                                                                    method=\"Radau\").y\n",
    "\n",
    "numerical_sol_fct_rk45 = lambda x, IC, alpha, beta=beta, domain=domain: numerical_non_linear_solution(alpha, beta, IC, domain, x,\n",
    "                                                                                                                   method=\"RK45\").y\n",
    "\n",
    "\n",
    "numerical_methods = {\"RK45\": numerical_sol_fct_rk45, \"Radau\": numerical_sol_fct_radau}"
   ]
  },
  {
   "cell_type": "code",
   "execution_count": null,
   "metadata": {},
   "outputs": [],
   "source": [
    "alpha_list_transfer = [10, 20, 30, 40, 50, 60, 70, 80, 90, 100, 110, 120, 130, 140, 150]\n",
    "IC_transfer = IC_transfer\n",
    "force_transfer = force_list[0]\n",
    "log_scale = False\n",
    "p = 10\n",
    "\n",
    "computational_time = defaultdict(list)\n",
    "max_error = defaultdict(list)\n",
    "mean_error = defaultdict(list)\n",
    "\n",
    "solution = defaultdict(list)\n",
    "\n",
    "length = t_eval.shape[0]\n",
    "\n",
    "for alpha in tqdm(alpha_list_transfer):\n",
    "    alpha = alpha\n",
    "    A_transfer = get_A(alpha)\n",
    "\n",
    "    pinns_sol, _, _, _, total_time = solve_perturbation_TL(beta=beta, p=p, t_eval=t_eval,\n",
    "                                                           alpha=alpha, A=A_transfer,\n",
    "                                                           force=force_transfer, IC=IC_transfer,\n",
    "                                                           H=H, H_0=H_0, dH_dt=dH_dt_new, dev=dev,\n",
    "                                                           force_func_index=force_func_index,\n",
    "                                                           numerical_sol_fct=numerical_sol_fct,\n",
    "                                                           force_function_PINNS=force_function_PINNS,\n",
    "                                                           force_function_numerical=force_function_numerical,\n",
    "                                                           compute_numerical_pert=False,\n",
    "                                                           numerical_perturbation_fct=numerical_perturbation_fct,\n",
    "                                                           verbose=False)\n",
    "    solution[\"PINNS\"].append(pinns_sol.T)\n",
    "    computational_time[\"PINNS\"].append(total_time)\n",
    "\n",
    "    # solve with numerical methods\n",
    "    for method, fct in numerical_methods.items():\n",
    "        start = time.time()\n",
    "        numerical_sol = fct(t_eval.detach().cpu().numpy().squeeze(),\n",
    "                            IC_transfer.detach().cpu().numpy().squeeze(),\n",
    "                            alpha)\n",
    "        solution[method].append(numerical_sol)\n",
    "        end = time.time()\n",
    "        computational_time[method].append(end-start)"
   ]
  },
  {
   "cell_type": "markdown",
   "metadata": {},
   "source": [
    "### Plot the computational time"
   ]
  },
  {
   "cell_type": "code",
   "execution_count": null,
   "metadata": {},
   "outputs": [],
   "source": [
    "color = {\"PINNS\": 'orange', \"RK45\": 'b', \"Radau\": 'g', 'LSODA': 'm', \"True\": (1, 0, 0, 0.5)}\n",
    "fig, ax = plt.subplots(1, tight_layout=True, figsize=(15, 4))\n",
    "\n",
    "for method, compt_time in computational_time.items():\n",
    "    ax.plot(alpha_list_transfer, compt_time, \"-o\", color=color[method], label=f\"{method}\")\n",
    "\n",
    "ax.set_title(\"Computational time solving stiff equation\", fontsize=20)\n",
    "ax.set_xlabel(r'Stiffness parameter $\\alpha$ and ratio $SR$', fontsize=16)\n",
    "ax.set_ylabel('Time', fontsize=16)\n",
    "ax.set_xticks(alpha_list_transfer, [r\"$\\alpha$=\" + str(i) + \"\\n\" +rf\"$SR$={i**2}\" for i in alpha_list_transfer])\n",
    "ax.tick_params(axis='x', labelsize=11.5)\n",
    "ax.tick_params(axis='y', labelsize=16)\n",
    "ax.legend(loc='best', fontsize=16)\n",
    "ax.grid()"
   ]
  }
 ],
 "metadata": {
  "kernelspec": {
   "display_name": "pinns",
   "language": "python",
   "name": "python3"
  },
  "language_info": {
   "codemirror_mode": {
    "name": "ipython",
    "version": 3
   },
   "file_extension": ".py",
   "mimetype": "text/x-python",
   "name": "python",
   "nbconvert_exporter": "python",
   "pygments_lexer": "ipython3",
   "version": "3.10.9"
  }
 },
 "nbformat": 4,
 "nbformat_minor": 2
}
