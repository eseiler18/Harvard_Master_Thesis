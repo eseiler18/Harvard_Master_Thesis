{
 "cells": [
  {
   "cell_type": "markdown",
   "metadata": {},
   "source": [
    "# Notebook to Change IC or force function inside the stiff regime of the Duffing Equation"
   ]
  },
  {
   "cell_type": "code",
   "execution_count": null,
   "metadata": {},
   "outputs": [],
   "source": [
    "%load_ext autoreload\n",
    "%autoreload 2"
   ]
  },
  {
   "cell_type": "code",
   "execution_count": null,
   "metadata": {},
   "outputs": [],
   "source": [
    "# imports\n",
    "import time\n",
    "import torch\n",
    "import matplotlib.pyplot as plt\n",
    "import numpy as np\n",
    "import sys\n",
    "from scipy.integrate import solve_ivp\n",
    "from collections import defaultdict\n",
    "from tqdm import tqdm\n",
    "\n",
    "# Add parent directory to sys.path\n",
    "from pathlib import Path\n",
    "current_path = Path.cwd()\n",
    "parent_dir = current_path.parent.parent\n",
    "sys.path.append(str(parent_dir))\n",
    "\n",
    "# Import necessary modules\n",
    "from src.utils_plot import plot_loss_and_all_solution\n",
    "from src.load_save import load_run_history\n",
    "from src.transfer_learning import compute_H_and_dH_dt, compute_M_inv, compute_force_term\n",
    "from src.nonlinear_transfer_learning import solve_perturbation_TL\n",
    "\n",
    "torch.autograd.set_detect_anomaly(False)\n",
    "torch.autograd.profiler.profile(False)\n",
    "torch.autograd.profiler.emit_nvtx(False)"
   ]
  },
  {
   "cell_type": "code",
   "execution_count": null,
   "metadata": {},
   "outputs": [],
   "source": [
    "def check_versions_and_device():\n",
    "  # set the device to the GPU if it is available, otherwise use the CPU\n",
    "  current_dev = torch.device('cuda' if torch.cuda.is_available() else 'cpu')\n",
    "  !nvidia-smi\n",
    "  return current_dev\n",
    "\n",
    "# set a global device variable to use in code\n",
    "dev = check_versions_and_device()\n",
    "print(dev)"
   ]
  },
  {
   "cell_type": "markdown",
   "metadata": {},
   "source": [
    "### Load the pretrain model and history"
   ]
  },
  {
   "cell_type": "code",
   "execution_count": null,
   "metadata": {},
   "outputs": [],
   "source": [
    "file_name = \"linear_inference_IC_2291457\"\n",
    "equation_name = \"duffing\"\n",
    "\n",
    "trained_model, \\\n",
    "x_range, \\\n",
    "iterations, \\\n",
    "hid_lay, \\\n",
    "num_equations, \\\n",
    "num_heads, \\\n",
    "loss_hist, \\\n",
    "alpha_list, \\\n",
    "A_list, \\\n",
    "IC_list, \\\n",
    "force_list = load_run_history(equation_name, file_name, dev, prev=False)\n",
    "\n",
    "# create the A matrix associated with the ODE\n",
    "def get_A(alpha):\n",
    "    return torch.tensor([[0., -1.], [0.1, alpha]], device=dev).double() \n",
    "\n",
    "force_list = [\n",
    "    lambda t: torch.cat([torch.zeros(len(t), device=dev).unsqueeze(1), torch.cos(t).unsqueeze(1)], dim=1).double()\n",
    "    if not isinstance(t, (float, int))\n",
    "    else np.array([0, np.cos(t)]).T\n",
    "    for _ in range(num_heads)\n",
    "]\n",
    "\n",
    "# function to numerically compute the solution to any set of two coupled, linear first-order ODES\n",
    "def double_coupled_equation(t, y, A, force):\n",
    "    return np.array([force(t)[0] - A[0][1] * y[1] - A[0][0] * y[0],\n",
    "                     force(t)[1] - A[1][0] * y[0] - A[1][1] * y[1]])\n",
    "\n",
    "numerical_sol_fct = lambda x, v, A, force: (solve_ivp(double_coupled_equation, [x_range[0], x_range[1]],\n",
    "                                                    v.squeeze(), args=(A, force), t_eval=x.squeeze(), method=\"Radau\").y)\n",
    "\n",
    "plot_loss_and_all_solution(x_range=x_range, true_functs=numerical_sol_fct,\n",
    "                           trained_model=trained_model, IC_list=IC_list, A_list=A_list,\n",
    "                           force=force_list, train_losses=loss_hist, device=dev)"
   ]
  },
  {
   "cell_type": "markdown",
   "metadata": {},
   "source": [
    "## Transfer Learning inside the sitff domain\n",
    "### Extract H "
   ]
  },
  {
   "cell_type": "code",
   "execution_count": null,
   "metadata": {},
   "outputs": [],
   "source": [
    "# forward pass to extract H, H0 and dH/dt\n",
    "size = 512\n",
    "H, H_0, dH_dt_new, t_eval = compute_H_and_dH_dt(x_range[0], x_range[1], trained_model, num_equations, hid_lay, size, dev)\n",
    "H = H.double()\n",
    "H_0 = H_0.double()\n",
    "dH_dt_new = dH_dt_new.double()\n",
    "t_eval = t_eval.double()"
   ]
  },
  {
   "cell_type": "markdown",
   "metadata": {},
   "source": [
    "### Equation to solve and stiff domain"
   ]
  },
  {
   "cell_type": "code",
   "execution_count": null,
   "metadata": {},
   "outputs": [],
   "source": [
    "alpha_transfer = 90; beta = 0.5\n",
    "\n",
    "domain = (x_range[0], x_range[1]);\n",
    "A_transfer = get_A(alpha=alpha_transfer)\n",
    "\n",
    "def numerical_non_linear_solution(delta, beta, u0, domain, t_eval, method=\"Radau\", r_tol= 1e-8):\n",
    "  def F(t, y):\n",
    "    return [y[1],\n",
    "            -delta*y[1] - 0.1*y[0] - beta*y[0]**3 + np.cos(t)]\n",
    "  solution = solve_ivp(F, domain, u0, t_eval=t_eval, method=method, r_tol=r_tol)\n",
    "  return solution\n",
    "\n",
    "r_tol = 1e-4\n",
    "numerical_sol_fct_radau = lambda x, IC, alpha, beta=beta, r_tol=r_tol, domain=domain: numerical_non_linear_solution(alpha, beta, IC, domain, x,\n",
    "                                                                                                                    method=\"Radau\", r_tol=r_tol).y\n",
    "\n",
    "numerical_sol_fct_rk45 = lambda x, IC, alpha, beta=beta, r_tol=r_tol, domain=domain: numerical_non_linear_solution(alpha, beta, IC, domain, x,\n",
    "                                                                                                                   method=\"RK45\", r_tol=r_tol).y\n",
    "\n",
    "numerical_methods = {\"RK45\": numerical_sol_fct_rk45, \"Radau\": numerical_sol_fct_radau}"
   ]
  },
  {
   "cell_type": "markdown",
   "metadata": {},
   "source": [
    "### Component for perturbation transfer learning"
   ]
  },
  {
   "cell_type": "code",
   "execution_count": null,
   "metadata": {},
   "outputs": [],
   "source": [
    "from src.nonlinear_transfer_learning import solve_perturbation_TL\n",
    "\n",
    "# functions to calculate the force function of each system p\n",
    "def force_func_index(n):\n",
    "    solution_index = [] # ind1, ind2, ind3, coeff\n",
    "    for a in range(n+1):\n",
    "        for b in range(a+1):\n",
    "              for c in range(b+1):\n",
    "                if ((a+b+c)==n):\n",
    "                    if ((a==b) & (b==c)):\n",
    "                        solution_index.append([a, b, c, 1])\n",
    "                    elif ((a!=b) & (b!=c)):\n",
    "                        solution_index.append([a, b, c, 6])\n",
    "                    else:\n",
    "                        solution_index.append([a, b, c, 3])\n",
    "    return solution_index\n",
    "\n",
    "def force_function_PINNS(i, alpha, list_force_index, PINNS_list):\n",
    "      result = 0\n",
    "      for force_ind in list_force_index[i-1]:\n",
    "        result += force_ind[-1]*(PINNS_list[force_ind[0]][:, 0, :]*PINNS_list[force_ind[1]][:, 0, :]*PINNS_list[force_ind[2]][:, 0, :])\n",
    "      return torch.hstack((torch.zeros_like(result), -result))\n",
    "\n",
    "def force_function_numerical(i, alpha, list_force_index, numerical_pert_list):\n",
    "      result = 0\n",
    "      for force_ind in list_force_index[i-1]:\n",
    "        result += force_ind[-1]*(numerical_pert_list[force_ind[0]][0, :]*numerical_pert_list[force_ind[1]][0, :]*numerical_pert_list[force_ind[2]][0, :])\n",
    "      return np.vstack((np.zeros_like(result), -result)).T\n",
    "\n",
    "\n",
    "def solve_numericaly_perturbation(t, y, A, force, t_eval):\n",
    "    index = np.argmin(np.abs(t_eval- t))\n",
    "    return np.array([force[index, 0] - A[0][1] * y[1] - A[0][0] * y[0],\n",
    "                     force[index, 1] - A[1][0] * y[0] - A[1][1] * y[1]])\n",
    "\n",
    "numerical_perturbation_fct = lambda x, v, A, force: (solve_ivp(solve_numericaly_perturbation, [x_range[0], x_range[1]],\n",
    "                                                    v.squeeze(), args=(A, force, x), t_eval=x.squeeze(), method=\"Radau\"))\n"
   ]
  },
  {
   "cell_type": "markdown",
   "metadata": {},
   "source": [
    "### Change IC in a stiff regime"
   ]
  },
  {
   "cell_type": "code",
   "execution_count": null,
   "metadata": {},
   "outputs": [],
   "source": [
    "change_force = False\n",
    "change_IC = True\n",
    "\n",
    "# training IC (random or not)\n",
    "def random_IC(x_bound=[1, 3], y_bound=[0, 2]):\n",
    "    ICx = np.random.uniform(x_bound[0], x_bound[1], 1)\n",
    "    ICy = np.random.uniform(y_bound[0], y_bound[1], 1)\n",
    "    return torch.tensor([ICx, ICy], device=dev)\n",
    "\n",
    "# training force (random or not)\n",
    "def random_force(force1_bound=[0, 2], force2_bound=[0, 2]):\n",
    "    force1 = np.random.uniform(force1_bound[0], force1_bound[1], 1)\n",
    "    force2 = -np.random.uniform(force2_bound[0], force2_bound[1], 1)\n",
    "    return torch.tensor([force1, force2], device=dev)"
   ]
  },
  {
   "cell_type": "markdown",
   "metadata": {},
   "source": [
    "### Precompute the M matrix in the stiff regime>"
   ]
  },
  {
   "cell_type": "code",
   "execution_count": null,
   "metadata": {},
   "outputs": [],
   "source": [
    "alpha_transfer = 100\n",
    "beta=0.5\n",
    "p=10\n",
    "\n",
    "A_transfer = get_A(alpha=alpha_transfer)\n",
    "force_transfer = force_list[0]\n",
    "IC_transfer = IC_list[0]\n",
    "\n",
    "A_transfer = A_transfer.double()\n",
    "dH_dt_new = dH_dt_new.double()\n",
    "H = H.double()\n",
    "H_0 = H_0.double()\n",
    "\n",
    "M_inv = compute_M_inv(dH_dt_new, H, H_0, t_eval, A_transfer)\n",
    "\n",
    "if not change_force:\n",
    "    force_terms = compute_force_term(t_eval, A_transfer, force_transfer, H, dH_dt_new)\n",
    "\n",
    "if not change_IC:\n",
    "    IC_term = torch.matmul(H_0.T, IC_transfer)"
   ]
  },
  {
   "cell_type": "markdown",
   "metadata": {},
   "source": [
    "### Compute 1000 solution with changing IC"
   ]
  },
  {
   "cell_type": "code",
   "execution_count": null,
   "metadata": {},
   "outputs": [],
   "source": [
    "np.random.seed(int(time.time()))\n",
    "nb_transfer_equation = 1000\n",
    "\n",
    "IC_transfer_list = [random_IC() for _ in range(nb_transfer_equation)] if change_IC else [IC_transfer for _ in range(nb_transfer_equation)]\n",
    "\n",
    "force_transfer_list = [random_force() for _ in range(nb_transfer_equation)] if change_force else [force_transfer for _ in range(nb_transfer_equation)]\n",
    "\n",
    "computational_time = defaultdict(list)\n",
    "max_error = defaultdict(list)\n",
    "mean_error = defaultdict(list)\n",
    "solution = defaultdict(list)\n",
    "\n",
    "for IC_transfer, force_transfer in tqdm(zip(IC_transfer_list, force_transfer_list), total=nb_transfer_equation):\n",
    "    # PINNS (change only IC)\n",
    "    if (change_IC) & (~change_force):\n",
    "        pinns_sol, _, _, _, total_time = solve_perturbation_TL(beta=beta, p=p, t_eval=t_eval,\n",
    "                                                               alpha=alpha_transfer, A=A_transfer,\n",
    "                                                               force=force_transfer, IC=IC_transfer,\n",
    "                                                               H=H, H_0=H_0, dH_dt=dH_dt_new, dev=dev,\n",
    "                                                               force_func_index=force_func_index,\n",
    "                                                               numerical_sol_fct=numerical_sol_fct,\n",
    "                                                               force_function_PINNS=force_function_PINNS,\n",
    "                                                               force_function_numerical=force_function_numerical,\n",
    "                                                               compute_numerical_pert=False,\n",
    "                                                               numerical_perturbation_fct=numerical_perturbation_fct,\n",
    "                                                               verbose=False, M_inv=M_inv)\n",
    "    \n",
    "    # # PINNS (change only force)\n",
    "    # elif (change_force) & (~change_IC):\n",
    "    #     start = time.time()\n",
    "    #     force_terms = compute_force_term(t_eval, A_transfer, force_transfer, H, dH_dt_new)\n",
    "    #     rhs_terms = force_terms + IC_term\n",
    "    #     W_out = torch.matmul(M_inv, rhs_terms)\n",
    "    #     pinns_sol = torch.matmul(H, W_out)\n",
    "    #     end = time.time()\n",
    "\n",
    "    # # PINNS (change IC and force)\n",
    "    # elif (change_force) & (change_IC):\n",
    "    #     start = time.time()\n",
    "    #     force_terms = compute_force_term(t_eval, A_transfer, force_transfer, H, dH_dt_new)\n",
    "    #     W_out, _ = compute_W_with_IC(M_inv, force_terms, IC_transfer, H_0)\n",
    "    #     pinns_sol = torch.matmul(H, W_out)\n",
    "    #     end = time.time()\n",
    "\n",
    "    solution[\"PINNS\"].append(pinns_sol.T)\n",
    "    computational_time[\"PINNS\"].append(total_time)\n",
    "\n",
    "    # solve with numerical methods\n",
    "    for method, fct in numerical_methods.items():\n",
    "        start = time.time()\n",
    "        numerical_sol = fct(t_eval.detach().cpu().numpy().squeeze(),\n",
    "                            IC_transfer.detach().cpu().squeeze(),\n",
    "                            alpha_transfer)\n",
    "        solution[method].append(numerical_sol)\n",
    "        end = time.time()\n",
    "        computational_time[method].append(end-start)"
   ]
  },
  {
   "cell_type": "markdown",
   "metadata": {},
   "source": [
    "### Plot average computational time"
   ]
  },
  {
   "cell_type": "code",
   "execution_count": null,
   "metadata": {},
   "outputs": [],
   "source": [
    "import matplotlib.pyplot as plt\n",
    "\n",
    "color = {\"PINNS\": 'orange', \"RK45\": 'b', \"Radau\": 'g'}\n",
    "fig, ax = plt.subplots(1, tight_layout=True, figsize=(8, 4))\n",
    "\n",
    "height = 0.6  # Change width to height for horizontal bars\n",
    "\n",
    "for i, (method, compt_time) in enumerate(computational_time.items()):\n",
    "    ax.barh(i, sum(compt_time)/len(compt_time), height=height, color=color[method], label=f\"{method}\")\n",
    "    ax.annotate(f'{sum(compt_time)/len(compt_time):1.2e}', (sum(compt_time)/len(compt_time), i),\n",
    "                ha='left', va='center', fontsize=12)  # Adjusted annotation placement for horizontal bars\n",
    "\n",
    "ax.set_xscale(\"log\")  # Change yscale to xscale for horizontal bars\n",
    "change_title = \"IC and force\" if (change_force and change_IC) else (\"force\" if change_force else \"IC\")\n",
    "#ax.set_title(rf\"Average Time Solving {nb_transfer_equation} stiff equations $\\alpha$={alpha_transfer} by changing {change_title}\", fontsize=20)\n",
    "ax.set_xlabel('Time (s)', fontsize=16)  # Change ylabel to xlabel for horizontal bars\n",
    "ax.set_yticks([i for i in range(len(computational_time))])\n",
    "ax.set_yticklabels(computational_time.keys())  # Change xticks to yticks and set_xticks to set_yticks\n",
    "ax.tick_params(axis='y', labelsize=14)\n",
    "ax.tick_params(axis='x', labelsize=16)\n",
    "fig.tight_layout()\n",
    "ax.margins(x=0.15)\n",
    "\n",
    "plt.show()\n"
   ]
  }
 ],
 "metadata": {
  "kernelspec": {
   "display_name": "pinns",
   "language": "python",
   "name": "python3"
  },
  "language_info": {
   "codemirror_mode": {
    "name": "ipython",
    "version": 3
   },
   "file_extension": ".py",
   "mimetype": "text/x-python",
   "name": "python",
   "nbconvert_exporter": "python",
   "pygments_lexer": "ipython3",
   "version": "3.10.9"
  }
 },
 "nbformat": 4,
 "nbformat_minor": 2
}
