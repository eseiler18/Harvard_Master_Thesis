{
 "cells": [
  {
   "cell_type": "markdown",
   "metadata": {},
   "source": [
    "# Stiffness ration for non linear equation"
   ]
  },
  {
   "cell_type": "code",
   "execution_count": 4,
   "metadata": {},
   "outputs": [
    {
     "name": "stdout",
     "output_type": "stream",
     "text": [
      "The autoreload extension is already loaded. To reload it, use:\n",
      "  %reload_ext autoreload\n"
     ]
    }
   ],
   "source": [
    "%load_ext autoreload\n",
    "%autoreload 2"
   ]
  },
  {
   "cell_type": "code",
   "execution_count": 5,
   "metadata": {},
   "outputs": [],
   "source": [
    "# imports\n",
    "import torch\n",
    "import matplotlib.pyplot as plt\n",
    "import numpy as np\n",
    "from scipy.integrate import solve_ivp\n",
    "from numpy import linalg as LA"
   ]
  },
  {
   "cell_type": "code",
   "execution_count": 6,
   "metadata": {},
   "outputs": [],
   "source": [
    "# x_range = [0., 1.]\n",
    "# beta = 0.9\n",
    "\n",
    "# def Exemple1(t, y, alpha, beta=beta):\n",
    "#     if isinstance(y, np.ndarray):\n",
    "#         yp = np.ones_like(y)\n",
    "#         yp[0] = -alpha*(y[0] + beta*y[1]**2)\n",
    "#         yp[1] = y[0] - beta*y[1]**2 + 1\n",
    "#     else:\n",
    "#         yp = torch.ones_like(y)\n",
    "#         yp[:, 0, :]  = -alpha*y[:, 0, :] + beta*y[:, 1, :]\n",
    "#         yp[:, 1, :] = y[:, 0, :] - beta*y[:, 1, :]**2 + 1\n",
    "#     return yp\n",
    "\n",
    "# IC = torch.tensor([[2.], [0.0]])\n",
    "# J_function = lambda x, y, alpha, beta=beta: np.matrix([[-alpha, 2*beta*y], [1, -2*beta*y]])\n",
    "\n",
    "# alpha_list = [i*2 for i in [2, 4, 8, 16, 32, 64, 128, 256, 512]]\n",
    "# equation_list = [lambda t, y, i=i: Exemple1(t, y, alpha=i) for i in alpha_list]"
   ]
  },
  {
   "cell_type": "code",
   "execution_count": 7,
   "metadata": {},
   "outputs": [],
   "source": [
    "x_range = [0., 1.]\n",
    "beta = 0.1\n",
    "a = 2\n",
    "\n",
    "def Exemple2(t, y, alpha, beta=beta, a=a):\n",
    "    if isinstance(y, np.ndarray):\n",
    "        yp = np.ones_like(y)\n",
    "        yp[0] = y[1]\n",
    "        yp[1] = -a*beta*alpha*(y[1]**2-y[0]**2) - alpha*y[1]\n",
    "    else:\n",
    "        yp = torch.ones_like(y)\n",
    "        yp[:, 0, :] = y[:, 1, :]\n",
    "        yp[:, 1, :] = -a*beta*alpha*(y[:, 1, :]**2-y[:, 0, :]**2) - alpha*y[:, 1, :]\n",
    "    return yp\n",
    "\n",
    "IC = torch.tensor([[2.], [0.0]])\n",
    "J_function = lambda x, y, alpha, beta=beta, a=a: np.matrix([[0, 1], [2*a*beta*alpha*x, -2*a*beta*alpha*y]])\n",
    "\n",
    "alpha_list = [i for i in [2, 4, 8, 16, 32, 64, 128, 256, 512]]\n",
    "equation_list = [lambda t, y, i=i: Exemple2(t, y, alpha=i) for i in alpha_list]"
   ]
  },
  {
   "cell_type": "code",
   "execution_count": 8,
   "metadata": {},
   "outputs": [],
   "source": [
    "# # VAN DER POLS\n",
    "# x_range = [0., 100.]\n",
    "\n",
    "# def VanDerPols(t, y, alpha):\n",
    "#     if isinstance(y, np.ndarray):\n",
    "#         yp = np.ones_like(y)\n",
    "#         yp[0] = y[1]\n",
    "#         yp[1] = alpha*(1-y[0]**2)*y[1] - y[0]\n",
    "#     else:\n",
    "#         yp = torch.ones_like(y)\n",
    "#         yp[:, 0, :]  = y[:, 1, :]\n",
    "#         yp[:, 1, :] = alpha*(1-y[:, 0, :]**2)*y[:, 1, :] - y[:, 0, :]\n",
    "#     return yp\n",
    "\n",
    "# IC = torch.tensor([[2.], [0.]])\n",
    "# J_function = lambda x, y, alpha: np.matrix([[0, 1], [(1-x**2)*alpha, -2*alpha*x*y-1]])\n",
    "\n",
    "# alpha_list = [2, 4, 8, 16, 32, 64, 128, 256, 516]\n",
    "# #alpha_list = [516]\n",
    "# equation_list = [lambda t, y, i=i: VanDerPols(t, y, alpha=i) for i in alpha_list]"
   ]
  },
  {
   "cell_type": "code",
   "execution_count": 9,
   "metadata": {},
   "outputs": [],
   "source": [
    "t_grid = torch.linspace(x_range[0], x_range[1], 10000)"
   ]
  },
  {
   "cell_type": "code",
   "execution_count": 10,
   "metadata": {},
   "outputs": [],
   "source": [
    "fig, ax = plt.subplots(figsize=(15, 6))\n",
    "ax.semilogy()  \n",
    "ax.set_ylabel(\"Stiffness Ratio\")\n",
    "ax.set_xlabel(\"t\")\n",
    "ax.set_title(\"Stiffness Ratio for various stiffness parameter alpha vs t\")\n",
    "\n",
    "is_complex = lambda c: True if isinstance(c, complex) else False\n",
    "for alpha, equation in zip(alpha_list, equation_list):\n",
    "   true_radau = lambda x, v: (solve_ivp(equation, [x_range[0], x_range[1]],\n",
    "                                     v.squeeze(), t_eval=x.squeeze(),\n",
    "                                     method=\"Radau\").y)\n",
    "   true_solution = true_radau(t_grid, IC)\n",
    "   stiffness_ratio = []\n",
    "   for t, x, y in zip(t_grid, true_solution[0, :], true_solution[1, :]):\n",
    "      J = J_function(x, y, alpha)\n",
    "      eigenvalues, eigenvectors = LA.eig(J)\n",
    "      eigenvalues_abs = np.zeros(2)\n",
    "      for i, eigenvalue in enumerate(eigenvalues):\n",
    "         if is_complex(eigenvalue):\n",
    "            eigenvalues_abs[i] = np.abs(eigenvalue.real)\n",
    "         else:\n",
    "            eigenvalues_abs[i] = np.abs(eigenvalue)\n",
    "      min_eigenvalues = np.min(eigenvalues_abs)\n",
    "      max_eigenvalues = np.max(eigenvalues_abs)\n",
    "      stiffness_ratio.append(max_eigenvalues/min_eigenvalues)\n",
    "   ax.plot(t_grid[1:], stiffness_ratio[1:], label=f\"alpha={alpha}\")\n",
    "ax.legend(loc=\"best\")"
   ]
  },
  {
   "cell_type": "code",
   "execution_count": null,
   "metadata": {},
   "outputs": [],
   "source": []
  }
 ],
 "metadata": {
  "kernelspec": {
   "display_name": "pinns",
   "language": "python",
   "name": "python3"
  },
  "language_info": {
   "codemirror_mode": {
    "name": "ipython",
    "version": 3
   },
   "file_extension": ".py",
   "mimetype": "text/x-python",
   "name": "python",
   "nbconvert_exporter": "python",
   "pygments_lexer": "ipython3",
   "version": "3.10.9"
  }
 },
 "nbformat": 4,
 "nbformat_minor": 2
}
